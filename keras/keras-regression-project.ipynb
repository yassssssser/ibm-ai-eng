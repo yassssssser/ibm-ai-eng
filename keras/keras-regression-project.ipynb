{
 "metadata": {
  "language_info": {
   "codemirror_mode": {
    "name": "ipython",
    "version": 3
   },
   "file_extension": ".py",
   "mimetype": "text/x-python",
   "name": "python",
   "nbconvert_exporter": "python",
   "pygments_lexer": "ipython3",
   "version": "3.7.6-final"
  },
  "orig_nbformat": 2,
  "kernelspec": {
   "name": "python37664bitbasecondae37c1651550a40f580ee93feda808c99",
   "display_name": "Python 3.7.6 64-bit ('base': conda)"
  }
 },
 "nbformat": 4,
 "nbformat_minor": 2,
 "cells": [
  {
   "cell_type": "markdown",
   "metadata": {},
   "source": [
    "## all imports"
   ]
  },
  {
   "cell_type": "code",
   "execution_count": null,
   "metadata": {},
   "outputs": [],
   "source": [
    "import pandas as pd\n",
    "import numpy as np\n",
    "\n",
    "from sklearn.model_selection import train_test_split\n",
    "from sklearn.metrics import mean_squared_error\n",
    "\n",
    "import keras\n",
    "from keras.models import Sequential\n",
    "from keras.layers import Dense\n",
    "\n",
    "import matplotlib.pyplot as plt"
   ]
  },
  {
   "cell_type": "markdown",
   "metadata": {},
   "source": [
    "## cleaning data"
   ]
  },
  {
   "cell_type": "code",
   "execution_count": 4,
   "metadata": {
    "tags": []
   },
   "outputs": [
    {
     "output_type": "stream",
     "name": "stdout",
     "text": "Cement  Blast Furnace Slag  Fly Ash  Water  Superplasticizer  \\\n0   540.0                 0.0      0.0  162.0               2.5   \n1   540.0                 0.0      0.0  162.0               2.5   \n2   332.5               142.5      0.0  228.0               0.0   \n3   332.5               142.5      0.0  228.0               0.0   \n4   198.6               132.4      0.0  192.0               0.0   \n\n   Coarse Aggregate  Fine Aggregate  Age  Strength  \n0            1040.0           676.0   28     79.99  \n1            1055.0           676.0   28     61.89  \n2             932.0           594.0  270     40.27  \n3             932.0           594.0  365     41.05  \n4             978.4           825.5  360     44.30  \n"
    },
    {
     "output_type": "execute_result",
     "data": {
      "text/plain": "(1030, 9)"
     },
     "metadata": {},
     "execution_count": 4
    }
   ],
   "source": [
    "concrete_data = pd.read_csv('https://s3-api.us-geo.objectstorage.softlayer.net/cf-courses-data/CognitiveClass/DL0101EN/labs/data/concrete_data.csv')\n",
    "print(concrete_data.head())\n",
    "concrete_data.shape"
   ]
  },
  {
   "cell_type": "code",
   "execution_count": 5,
   "metadata": {
    "tags": []
   },
   "outputs": [
    {
     "output_type": "stream",
     "name": "stdout",
     "text": "Cement  Blast Furnace Slag      Fly Ash        Water  \\\ncount  1030.000000         1030.000000  1030.000000  1030.000000   \nmean    281.167864           73.895825    54.188350   181.567282   \nstd     104.506364           86.279342    63.997004    21.354219   \nmin     102.000000            0.000000     0.000000   121.800000   \n25%     192.375000            0.000000     0.000000   164.900000   \n50%     272.900000           22.000000     0.000000   185.000000   \n75%     350.000000          142.950000   118.300000   192.000000   \nmax     540.000000          359.400000   200.100000   247.000000   \n\n       Superplasticizer  Coarse Aggregate  Fine Aggregate          Age  \\\ncount       1030.000000       1030.000000     1030.000000  1030.000000   \nmean           6.204660        972.918932      773.580485    45.662136   \nstd            5.973841         77.753954       80.175980    63.169912   \nmin            0.000000        801.000000      594.000000     1.000000   \n25%            0.000000        932.000000      730.950000     7.000000   \n50%            6.400000        968.000000      779.500000    28.000000   \n75%           10.200000       1029.400000      824.000000    56.000000   \nmax           32.200000       1145.000000      992.600000   365.000000   \n\n          Strength  \ncount  1030.000000  \nmean     35.817961  \nstd      16.705742  \nmin       2.330000  \n25%      23.710000  \n50%      34.445000  \n75%      46.135000  \nmax      82.600000  \n"
    },
    {
     "output_type": "execute_result",
     "data": {
      "text/plain": "Cement                0\nBlast Furnace Slag    0\nFly Ash               0\nWater                 0\nSuperplasticizer      0\nCoarse Aggregate      0\nFine Aggregate        0\nAge                   0\nStrength              0\ndtype: int64"
     },
     "metadata": {},
     "execution_count": 5
    }
   ],
   "source": [
    "#looking for nulls\n",
    "print(concrete_data.describe())\n",
    "concrete_data.isnull().sum()"
   ]
  },
  {
   "cell_type": "markdown",
   "metadata": {},
   "source": [
    "## splitting into train and test sets"
   ]
  },
  {
   "cell_type": "code",
   "execution_count": 8,
   "metadata": {},
   "outputs": [
    {
     "output_type": "execute_result",
     "data": {
      "text/plain": "0    79.99\n1    61.89\n2    40.27\n3    41.05\n4    44.30\nName: Strength, dtype: float64"
     },
     "metadata": {},
     "execution_count": 8
    }
   ],
   "source": [
    "predictors = concrete_data.drop(\"Strength\", axis=1)\n",
    "target = concrete_data['Strength']\n",
    "predictors.head()"
   ]
  },
  {
   "cell_type": "code",
   "execution_count": 13,
   "metadata": {},
   "outputs": [],
   "source": [
    "n_cols = predictors.shape[1] # number of predictors, used later"
   ]
  },
  {
   "cell_type": "code",
   "execution_count": 60,
   "metadata": {},
   "outputs": [],
   "source": [
    " x_train, x_test, y_train, y_test = train_test_split(predictors, target, test_size=0.30, random_state=42)"
   ]
  },
  {
   "cell_type": "markdown",
   "metadata": {},
   "source": [
    "# neural networks\n",
    "## part a - no normalisation, epochs=50, 1 hidden layer"
   ]
  },
  {
   "cell_type": "code",
   "execution_count": 61,
   "metadata": {},
   "outputs": [],
   "source": [
    "#set up regression model\n",
    "def regression_model_a():\n",
    "    model = Sequential()\n",
    "    model.add(Dense(10, activation='relu', input_shape = (n_cols,)))\n",
    "    model.add(Dense(1))\n",
    "\n",
    "    model.compile(optimizer='adam', loss='mean_squared_error')\n",
    "    return model"
   ]
  },
  {
   "cell_type": "code",
   "execution_count": 30,
   "metadata": {
    "tags": []
   },
   "outputs": [
    {
     "output_type": "stream",
     "name": "stdout",
     "text": "Epoch 1/50\n16/16 [==============================] - 0s 13ms/step - loss: 41560.6055 - val_loss: 27717.1016\nEpoch 2/50\n16/16 [==============================] - 0s 4ms/step - loss: 19965.2676 - val_loss: 12520.4355\nEpoch 3/50\n 1/16 [>.............................] - ETA: 0s - loss: 13502.42716/16 [==============================] - 0s 7ms/step - loss: 8913.7314 - val_loss: 5356.8936\nEpoch 4/50\n16/16 [==============================] - 0s 10ms/step - loss: 3988.6658 - val_loss: 2465.3525\nEpoch 5/50\n16/16 [==============================] - 0s 5ms/step - loss: 2073.3433 - val_loss: 1456.1981\nEpoch 6/50\n16/16 [==============================] - 0s 12ms/step - loss: 1458.6697 - val_loss: 1136.0483\nEpoch 7/50\n16/16 [==============================] - 0s 11ms/step - loss: 1267.0276 - val_loss: 1042.7192\nEpoch 8/50\n16/16 [==============================] - 0s 13ms/step - loss: 1213.7168 - val_loss: 1003.6227\nEpoch 9/50\n16/16 [==============================] - 0s 6ms/step - loss: 1182.1145 - val_loss: 976.4399\nEpoch 10/50\n16/16 [==============================] - 0s 6ms/step - loss: 1150.7827 - val_loss: 949.8705\nEpoch 11/50\n16/16 [==============================] - 0s 16ms/step - loss: 1120.8594 - val_loss: 922.1445\nEpoch 12/50\n16/16 [==============================] - 0s 6ms/step - loss: 1089.2948 - val_loss: 895.2836\nEpoch 13/50\n16/16 [==============================] - 0s 6ms/step - loss: 1060.3441 - val_loss: 868.0189\nEpoch 14/50\n16/16 [==============================] - 0s 9ms/step - loss: 1029.2092 - val_loss: 839.3492\nEpoch 15/50\n16/16 [==============================] - 0s 14ms/step - loss: 996.4109 - val_loss: 812.0878\nEpoch 16/50\n16/16 [==============================] - 0s 9ms/step - loss: 965.6824 - val_loss: 785.7894\nEpoch 17/50\n16/16 [==============================] - 0s 7ms/step - loss: 934.6821 - val_loss: 757.9775\nEpoch 18/50\n16/16 [==============================] - 0s 5ms/step - loss: 905.2717 - val_loss: 730.1353\nEpoch 19/50\n16/16 [==============================] - 0s 7ms/step - loss: 872.2582 - val_loss: 704.3152\nEpoch 20/50\n16/16 [==============================] - 0s 14ms/step - loss: 841.5316 - val_loss: 677.6971\nEpoch 21/50\n16/16 [==============================] - 0s 9ms/step - loss: 810.2208 - val_loss: 651.8154\nEpoch 22/50\n16/16 [==============================] - 0s 14ms/step - loss: 780.2993 - val_loss: 626.0474\nEpoch 23/50\n16/16 [==============================] - 0s 7ms/step - loss: 749.8548 - val_loss: 601.1465\nEpoch 24/50\n16/16 [==============================] - 0s 5ms/step - loss: 720.3953 - val_loss: 576.7053\nEpoch 25/50\n16/16 [==============================] - 0s 5ms/step - loss: 691.8928 - val_loss: 551.9310\nEpoch 26/50\n16/16 [==============================] - 0s 7ms/step - loss: 663.5997 - val_loss: 528.6119\nEpoch 27/50\n16/16 [==============================] - 0s 30ms/step - loss: 635.0416 - val_loss: 506.3275\nEpoch 28/50\n16/16 [==============================] - 0s 12ms/step - loss: 609.7405 - val_loss: 483.3615\nEpoch 29/50\n16/16 [==============================] - 0s 9ms/step - loss: 581.9439 - val_loss: 462.7180\nEpoch 30/50\n16/16 [==============================] - 0s 14ms/step - loss: 557.2397 - val_loss: 443.2194\nEpoch 31/50\n16/16 [==============================] - 0s 23ms/step - loss: 533.8387 - val_loss: 424.2657\nEpoch 32/50\n16/16 [==============================] - 0s 10ms/step - loss: 510.9424 - val_loss: 405.2492\nEpoch 33/50\n16/16 [==============================] - 0s 8ms/step - loss: 488.1199 - val_loss: 388.3115\nEpoch 34/50\n16/16 [==============================] - 0s 6ms/step - loss: 467.8286 - val_loss: 371.7267\nEpoch 35/50\n16/16 [==============================] - 0s 5ms/step - loss: 447.6066 - val_loss: 355.3672\nEpoch 36/50\n16/16 [==============================] - 0s 11ms/step - loss: 428.0162 - val_loss: 340.6821\nEpoch 37/50\n16/16 [==============================] - 0s 6ms/step - loss: 409.9706 - val_loss: 326.4455\nEpoch 38/50\n16/16 [==============================] - 0s 16ms/step - loss: 392.5257 - val_loss: 313.0243\nEpoch 39/50\n16/16 [==============================] - 0s 14ms/step - loss: 376.4127 - val_loss: 299.9268\nEpoch 40/50\n16/16 [==============================] - 1s 48ms/step - loss: 360.4639 - val_loss: 287.9380\nEpoch 41/50\n16/16 [==============================] - 0s 13ms/step - loss: 345.7826 - val_loss: 277.1532\nEpoch 42/50\n16/16 [==============================] - 0s 7ms/step - loss: 331.9789 - val_loss: 266.1917\nEpoch 43/50\n16/16 [==============================] - 0s 6ms/step - loss: 318.7090 - val_loss: 256.1666\nEpoch 44/50\n16/16 [==============================] - 0s 5ms/step - loss: 306.1550 - val_loss: 246.4200\nEpoch 45/50\n16/16 [==============================] - 0s 9ms/step - loss: 293.7906 - val_loss: 237.3760\nEpoch 46/50\n16/16 [==============================] - 0s 16ms/step - loss: 282.9355 - val_loss: 228.3719\nEpoch 47/50\n16/16 [==============================] - 0s 9ms/step - loss: 272.0113 - val_loss: 220.0980\nEpoch 48/50\n16/16 [==============================] - 0s 7ms/step - loss: 262.4816 - val_loss: 212.3081\nEpoch 49/50\n16/16 [==============================] - 0s 8ms/step - loss: 253.5546 - val_loss: 205.6586\nEpoch 50/50\n16/16 [==============================] - 0s 5ms/step - loss: 243.8575 - val_loss: 197.9784\n"
    },
    {
     "output_type": "execute_result",
     "data": {
      "text/plain": "<tensorflow.python.keras.callbacks.History at 0x191e32fc988>"
     },
     "metadata": {},
     "execution_count": 30
    }
   ],
   "source": [
    "#fitting training data in model\n",
    "model = regression_model_a()\n",
    "\n",
    "model.fit(x_train, y_train, validation_split=0.3, epochs=50, verbose=1)"
   ]
  },
  {
   "cell_type": "code",
   "execution_count": 31,
   "metadata": {},
   "outputs": [
    {
     "output_type": "execute_result",
     "data": {
      "text/plain": "238.03893679667095"
     },
     "metadata": {},
     "execution_count": 31
    }
   ],
   "source": [
    "#generating predicted data and evauating against test data\n",
    "y_pred = model.predict(x_test)\n",
    "\n",
    "mean_squared_error(y_test, y_pred)"
   ]
  },
  {
   "cell_type": "markdown",
   "metadata": {},
   "source": [
    "### repeat 50 times"
   ]
  },
  {
   "cell_type": "code",
   "execution_count": 62,
   "metadata": {
    "tags": []
   },
   "outputs": [
    {
     "output_type": "stream",
     "name": "stdout",
     "text": "model 1 mse: 267.3590469688935\n model 2 mse: 117.59382441780846\n model 3 mse: 207.3029126473804\n model 4 mse: 154.81513207495914\n model 5 mse: 430.06838053137983\n model 6 mse: 114.69750147886174\n model 7 mse: 909.8425690104128\n model 8 mse: 140.81265153453413\n model 9 mse: 416.2653895120423\n model 10 mse: 179.4224446269846\n model 11 mse: 77.5264135943781\n model 12 mse: 206.7048697120989\n model 13 mse: 210.26969431155777\n model 14 mse: 251.34728117643158\n model 15 mse: 118.88235764266172\n model 16 mse: 143.10803459468903\n model 17 mse: 310.32083751139\n model 18 mse: 705.3444431854691\n model 19 mse: 591.4139933826667\n model 20 mse: 4856.03971408804\n model 21 mse: 2776.539713072398\n model 22 mse: 161.5475682001624\n model 23 mse: 879.7018002671344\n model 24 mse: 145.42317908265332\n model 25 mse: 1198.0123941108734\n model 26 mse: 314.4291884678185\n model 27 mse: 130.38159731814352\n model 28 mse: 370.0222238745393\n model 29 mse: 132.40419847728623\n model 30 mse: 423.5362323591803\n model 31 mse: 146.2182796225353\n model 32 mse: 212.18124271598984\n model 33 mse: 782.9759090895808\n model 34 mse: 868.8821230333197\n model 35 mse: 223.57830057001422\n model 36 mse: 135.23777876416008\n model 37 mse: 133.9205963301651\n model 38 mse: 172.79923314997097\n model 39 mse: 144.84472264727825\n model 40 mse: 165.34802833369656\n model 41 mse: 481.59509669370107\n model 42 mse: 1900.18460971058\n model 43 mse: 446.45660217698645\n model 44 mse: 91.58476785115559\n model 45 mse: 552.505420380147\n model 46 mse: 108.60073408491544\n model 47 mse: 892.0032607363296\n model 48 mse: 190.70160311992214\n model 49 mse: 214.07900412889208\n model 50 mse: 421.27026994732756\n----------------results----------------\npart a: no normalisation, epochs=50, 1 hidden layer\nmean of mean squared errors: 504.52\nstandard deviation of mean squared errors: 785.22\n"
    }
   ],
   "source": [
    "#running model 50 times in loop\n",
    "mse_list = []\n",
    "\n",
    "for n in range(0,50):\n",
    "    model = regression_model_a()\n",
    "\n",
    "    model.fit(x_train, y_train, validation_split=0.3, epochs=50, verbose=0)\n",
    "    \n",
    "    y_pred = model.predict(x_test)\n",
    "    mse = mean_squared_error(y_test, y_pred)\n",
    "    print(\" model {} mse: {}\".format(n+1, mse))\n",
    "    mse_list.append(mse)\n",
    "\n",
    "    n += 1\n",
    "\n",
    "#recording mean/std dev of all mean standard error for comparison\n",
    "meana = np.mean(mse_list)\n",
    "stda = np.std(mse_list) \n",
    "\n",
    "print(\"----------------results----------------\")\n",
    "print(\"part a: no normalisation, epochs=50, 1 hidden layer\")\n",
    "print(\"mean of mean squared errors: \" + str(meana.round(2)))\n",
    "print(\"standard deviation of mean squared errors: \" + str(stda.round(2)))"
   ]
  },
  {
   "cell_type": "markdown",
   "metadata": {},
   "source": [
    "## part b - normalisation, epochs=50, 1 hidden layer"
   ]
  },
  {
   "cell_type": "code",
   "execution_count": 63,
   "metadata": {},
   "outputs": [
    {
     "output_type": "execute_result",
     "data": {
      "text/plain": "     Cement  Blast Furnace Slag   Fly Ash     Water  Superplasticizer  \\\n0  2.476712           -0.856472 -0.846733 -0.916319         -0.620147   \n1  2.476712           -0.856472 -0.846733 -0.916319         -0.620147   \n2  0.491187            0.795140 -0.846733  2.174405         -1.038638   \n3  0.491187            0.795140 -0.846733  2.174405         -1.038638   \n4 -0.790075            0.678079 -0.846733  0.488555         -1.038638   \n\n   Coarse Aggregate  Fine Aggregate       Age  \n0          0.862735       -1.217079 -0.279597  \n1          1.055651       -1.217079 -0.279597  \n2         -0.526262       -2.239829  3.551340  \n3         -0.526262       -2.239829  5.055221  \n4          0.070492        0.647569  4.976069  ",
      "text/html": "<div>\n<style scoped>\n    .dataframe tbody tr th:only-of-type {\n        vertical-align: middle;\n    }\n\n    .dataframe tbody tr th {\n        vertical-align: top;\n    }\n\n    .dataframe thead th {\n        text-align: right;\n    }\n</style>\n<table border=\"1\" class=\"dataframe\">\n  <thead>\n    <tr style=\"text-align: right;\">\n      <th></th>\n      <th>Cement</th>\n      <th>Blast Furnace Slag</th>\n      <th>Fly Ash</th>\n      <th>Water</th>\n      <th>Superplasticizer</th>\n      <th>Coarse Aggregate</th>\n      <th>Fine Aggregate</th>\n      <th>Age</th>\n    </tr>\n  </thead>\n  <tbody>\n    <tr>\n      <th>0</th>\n      <td>2.476712</td>\n      <td>-0.856472</td>\n      <td>-0.846733</td>\n      <td>-0.916319</td>\n      <td>-0.620147</td>\n      <td>0.862735</td>\n      <td>-1.217079</td>\n      <td>-0.279597</td>\n    </tr>\n    <tr>\n      <th>1</th>\n      <td>2.476712</td>\n      <td>-0.856472</td>\n      <td>-0.846733</td>\n      <td>-0.916319</td>\n      <td>-0.620147</td>\n      <td>1.055651</td>\n      <td>-1.217079</td>\n      <td>-0.279597</td>\n    </tr>\n    <tr>\n      <th>2</th>\n      <td>0.491187</td>\n      <td>0.795140</td>\n      <td>-0.846733</td>\n      <td>2.174405</td>\n      <td>-1.038638</td>\n      <td>-0.526262</td>\n      <td>-2.239829</td>\n      <td>3.551340</td>\n    </tr>\n    <tr>\n      <th>3</th>\n      <td>0.491187</td>\n      <td>0.795140</td>\n      <td>-0.846733</td>\n      <td>2.174405</td>\n      <td>-1.038638</td>\n      <td>-0.526262</td>\n      <td>-2.239829</td>\n      <td>5.055221</td>\n    </tr>\n    <tr>\n      <th>4</th>\n      <td>-0.790075</td>\n      <td>0.678079</td>\n      <td>-0.846733</td>\n      <td>0.488555</td>\n      <td>-1.038638</td>\n      <td>0.070492</td>\n      <td>0.647569</td>\n      <td>4.976069</td>\n    </tr>\n  </tbody>\n</table>\n</div>"
     },
     "metadata": {},
     "execution_count": 63
    }
   ],
   "source": [
    "#normalising data\n",
    "predictors_norm = (predictors - predictors.mean()) / predictors.std()\n",
    "predictors_norm.head()"
   ]
  },
  {
   "cell_type": "code",
   "execution_count": 64,
   "metadata": {},
   "outputs": [],
   "source": [
    "#splitting normalised data into train and test\n",
    "x_train, x_test, y_train, y_test = train_test_split(predictors_norm, target, test_size=0.30, random_state=42)"
   ]
  },
  {
   "cell_type": "code",
   "execution_count": 65,
   "metadata": {},
   "outputs": [],
   "source": [
    "#same model used in parts b and c\n",
    "def regression_model_bc():\n",
    "    model = Sequential()\n",
    "    model.add(Dense(10, activation='relu', input_shape = (n_cols,)))\n",
    "    model.add(Dense(1))\n",
    "\n",
    "    model.compile(optimizer='adam', loss='mean_squared_error')\n",
    "    return model"
   ]
  },
  {
   "cell_type": "code",
   "execution_count": 66,
   "metadata": {
    "tags": []
   },
   "outputs": [
    {
     "output_type": "stream",
     "name": "stdout",
     "text": "model 1 mse: 906.7511735288045\n model 2 mse: 574.850992352977\n model 3 mse: 565.814811433985\n model 4 mse: 713.7902075594742\n model 5 mse: 718.2938798179813\n model 6 mse: 545.6497141495245\n model 7 mse: 629.9232374395327\n model 8 mse: 708.1565293608986\n model 9 mse: 588.1044289248077\n model 10 mse: 755.1023243152036\n model 11 mse: 552.6275428093392\n model 12 mse: 746.0825129352987\n model 13 mse: 607.9209647985164\n model 14 mse: 878.2109647401453\n model 15 mse: 778.2911225277844\n model 16 mse: 653.4360638841605\n model 17 mse: 661.9233631662245\n model 18 mse: 724.5757260180119\n model 19 mse: 545.2269533170555\n model 20 mse: 665.052760503656\n model 21 mse: 645.267724640143\n model 22 mse: 425.329430295632\n model 23 mse: 544.8423368554509\n model 24 mse: 636.1471836983097\n model 25 mse: 602.9370266472871\n model 26 mse: 568.1199185365307\n model 27 mse: 667.6278503862194\n model 28 mse: 763.193048928751\n model 29 mse: 687.1817297299076\n model 30 mse: 702.0021810862286\n model 31 mse: 424.7281807822857\n model 32 mse: 623.7951912823156\n model 33 mse: 835.7560269266651\n model 34 mse: 663.1610282928601\n model 35 mse: 691.271040136024\n model 36 mse: 543.8764249263768\n model 37 mse: 679.7414534301384\n model 38 mse: 538.2821947107427\n model 39 mse: 583.084269089361\n model 40 mse: 895.3938235523345\n model 41 mse: 720.2032563614715\n model 42 mse: 563.8052028630569\n model 43 mse: 564.3567440688447\n model 44 mse: 472.0490627631643\n model 45 mse: 666.0512210272773\n model 46 mse: 618.3796753117213\n model 47 mse: 952.2376430228173\n model 48 mse: 670.5594185184062\n model 49 mse: 990.6612633392829\n model 50 mse: 849.8329175470548\n----------------results----------------\npart a: no normalisation, epochs=50, 1 hidden layer\nmean of mean squared errors: 666.19\nstandard deviation of mean squared errors: 124.51\n"
    }
   ],
   "source": [
    "mse_list = []\n",
    "\n",
    "for n in range(0,50):\n",
    "    model = regression_model_bc()\n",
    "\n",
    "    model.fit(x_train, y_train, validation_split=0.3, epochs=50, verbose=0)\n",
    "    \n",
    "    y_pred = model.predict(x_test)\n",
    "    mse = mean_squared_error(y_test, y_pred)\n",
    "    print(\" model {} mse: {}\".format(n+1, mse))\n",
    "    mse_list.append(mse)\n",
    "\n",
    "    n += 1\n",
    "\n",
    "meanb = np.mean(mse_list)\n",
    "stdb = np.std(mse_list) \n",
    "\n",
    "print(\"----------------results----------------\")\n",
    "print(\"part a: no normalisation, epochs=50, 1 hidden layer\")\n",
    "print(\"mean of mean squared errors: \" + str(meanb.round(2)))\n",
    "print(\"standard deviation of mean squared errors: \" + str(stdb.round(2)))"
   ]
  },
  {
   "cell_type": "markdown",
   "metadata": {},
   "source": [
    "## part c - normalisation, epochs=100, 1 hidden layer"
   ]
  },
  {
   "cell_type": "code",
   "execution_count": 67,
   "metadata": {},
   "outputs": [],
   "source": [
    "def regression_model_c():\n",
    "    model = Sequential()\n",
    "    model.add(Dense(10, activation='relu', input_shape = (n_cols,)))\n",
    "    model.add(Dense(1))\n",
    "\n",
    "    model.compile(optimizer='adam', loss='mean_squared_error')\n",
    "    return model"
   ]
  },
  {
   "cell_type": "code",
   "execution_count": 68,
   "metadata": {
    "tags": []
   },
   "outputs": [
    {
     "output_type": "stream",
     "name": "stdout",
     "text": "model 1 mse: 222.56991273778868\n model 2 mse: 160.8060409339499\n model 3 mse: 177.81528696467947\n model 4 mse: 188.5203326661364\n model 5 mse: 194.1467985692477\n model 6 mse: 409.5534017284044\n model 7 mse: 171.06635804615237\n model 8 mse: 203.50640441878136\n model 9 mse: 195.22103524518755\n model 10 mse: 185.24385220024695\n model 11 mse: 301.65702449643385\n model 12 mse: 201.84893930471833\n model 13 mse: 177.96458640710577\n model 14 mse: 272.477696909636\n model 15 mse: 194.57406036918798\n model 16 mse: 214.78623597895742\n model 17 mse: 185.06566421447246\n model 18 mse: 186.50541654813335\n model 19 mse: 167.08371085856172\n model 20 mse: 231.58793143097014\n model 21 mse: 211.4585661210806\n model 22 mse: 234.59401503500803\n model 23 mse: 172.7715862012643\n model 24 mse: 202.4778396924331\n model 25 mse: 176.91213178024114\n model 26 mse: 193.8546983420105\n model 27 mse: 183.29379601443216\n model 28 mse: 284.6956236470539\n model 29 mse: 171.52077523804343\n model 30 mse: 307.29765169436394\n model 31 mse: 179.55463512846939\n model 32 mse: 266.63507621550826\n model 33 mse: 306.4064207344499\n model 34 mse: 197.05462956891063\n model 35 mse: 232.07705448128627\n model 36 mse: 216.60501960054316\n model 37 mse: 166.9073027608158\n model 38 mse: 214.08776504867456\n model 39 mse: 232.69308617964987\n model 40 mse: 201.30334741095982\n model 41 mse: 230.88224541661248\n model 42 mse: 166.13821456114178\n model 43 mse: 161.84669054829112\n model 44 mse: 238.19505753522748\n model 45 mse: 217.94533494919065\n model 46 mse: 192.6629127410806\n model 47 mse: 200.6220647002159\n model 48 mse: 188.98878254532028\n model 49 mse: 190.50389482606698\n model 50 mse: 193.6770173603195\npart a: no normalisation, epochs=100, 1 hidden layer\nmean of mean squared errors: 211.51\nstandard deviation of mean squared errors: 46.44\n"
    }
   ],
   "source": [
    "mse_list = []\n",
    "\n",
    "for n in range(0,50):\n",
    "    model = regression_model_c()\n",
    "\n",
    "    model.fit(x_train, y_train, validation_split=0.3, epochs=100, verbose=0)\n",
    "    \n",
    "    y_pred = model.predict(x_test)\n",
    "    mse = mean_squared_error(y_test, y_pred)\n",
    "    print(\" model {} mse: {}\".format(n+1, mse))\n",
    "    mse_list.append(mse)\n",
    "\n",
    "    n += 1\n",
    "\n",
    "meanc = np.mean(mse_list)\n",
    "stdc = np.std(mse_list) \n",
    "\n",
    "print(\"part a: no normalisation, epochs=100, 1 hidden layer\")\n",
    "print(\"mean of mean squared errors: \" + str(meanc.round(2)))\n",
    "print(\"standard deviation of mean squared errors: \" + str(stdc.round(2)))"
   ]
  },
  {
   "cell_type": "markdown",
   "metadata": {},
   "source": [
    "## part d - normalisation, epoch=50, 3 hidden layers"
   ]
  },
  {
   "cell_type": "code",
   "execution_count": 69,
   "metadata": {},
   "outputs": [],
   "source": [
    "def regression_model_d():\n",
    "    model = Sequential()\n",
    "    model.add(Dense(10, activation='relu', input_shape = (n_cols,)))\n",
    "    model.add(Dense(10, activation='relu'))\n",
    "    model.add(Dense(10, activation='relu'))\n",
    "    model.add(Dense(1))\n",
    "\n",
    "    model.compile(optimizer='adam', loss='mean_squared_error')\n",
    "    return model"
   ]
  },
  {
   "cell_type": "code",
   "execution_count": 70,
   "metadata": {
    "tags": []
   },
   "outputs": [
    {
     "output_type": "stream",
     "name": "stdout",
     "text": "model 1 mse: 132.00156170943674\n model 2 mse: 124.65698359851451\n model 3 mse: 139.08557867915286\n model 4 mse: 135.36839113343842\n model 5 mse: 123.16951138623652\n model 6 mse: 146.32011693810242\n model 7 mse: 157.2520026652249\n model 8 mse: 135.24945803598843\n model 9 mse: 123.68071354792268\n model 10 mse: 145.96771044755428\n model 11 mse: 149.90905555276402\n model 12 mse: 140.1595313198456\n model 13 mse: 140.18275604084178\n model 14 mse: 138.74792201649072\n model 15 mse: 145.97710132934188\n model 16 mse: 149.98489416256365\n model 17 mse: 140.91229849038632\n model 18 mse: 116.4179062298598\n model 19 mse: 136.86335354208\n model 20 mse: 151.22517822412166\n model 21 mse: 114.28389689985498\n model 22 mse: 144.24845186485268\n model 23 mse: 137.15603432920352\n model 24 mse: 142.63518710870477\n model 25 mse: 130.50181469674297\n model 26 mse: 147.00470238876048\n model 27 mse: 137.3455663760419\n model 28 mse: 141.5871629085625\n model 29 mse: 148.919840220235\n model 30 mse: 148.46771112842276\n model 31 mse: 93.752126747869\n model 32 mse: 122.75495013841365\n model 33 mse: 131.45381514644305\n model 34 mse: 132.91494157026474\n model 35 mse: 139.03393921597947\n model 36 mse: 130.84429964548045\n model 37 mse: 130.3845017218479\n model 38 mse: 120.47196334240404\n model 39 mse: 146.66519593861236\n model 40 mse: 145.6305787621069\n model 41 mse: 141.70341623264008\n model 42 mse: 130.55907125589377\n model 43 mse: 148.99425511960183\n model 44 mse: 146.03426601625517\n model 45 mse: 150.09516278930886\n model 46 mse: 161.04240039787447\n model 47 mse: 136.95606223097212\n model 48 mse: 138.0428372511982\n model 49 mse: 141.34469843445268\n model 50 mse: 140.4729793910644\npart a: no normalisation, epochs=100, 1 hidden layer\nmean of mean squared errors: 137.89\nstandard deviation of mean squared errors: 11.77\n"
    }
   ],
   "source": [
    "mse_list = []\n",
    "\n",
    "for n in range(0,50):\n",
    "    model = regression_model_d()\n",
    "\n",
    "    model.fit(x_train, y_train, validation_split=0.3, epochs=50, verbose=0)\n",
    "    \n",
    "    y_pred = model.predict(x_test)\n",
    "    mse = mean_squared_error(y_test, y_pred)\n",
    "    print(\" model {} mse: {}\".format(n+1, mse))\n",
    "    mse_list.append(mse)\n",
    "\n",
    "    n += 1\n",
    "\n",
    "meand = np.mean(mse_list)\n",
    "stdd = np.std(mse_list) \n",
    "\n",
    "print(\"part a: no normalisation, epochs=100, 1 hidden layer\")\n",
    "print(\"mean of mean squared errors: \" + str(meand.round(2)))\n",
    "print(\"standard deviation of mean squared errors: \" + str(stdd.round(2)))"
   ]
  },
  {
   "cell_type": "markdown",
   "metadata": {},
   "source": [
    "## compare neural networks"
   ]
  },
  {
   "cell_type": "code",
   "execution_count": 78,
   "metadata": {},
   "outputs": [
    {
     "output_type": "execute_result",
     "data": {
      "text/plain": "         mean       stdev\na  504.522063  785.220376\nb  666.193195  124.511883\nc  211.513279   46.435448\nd  137.888677   11.772866",
      "text/html": "<div>\n<style scoped>\n    .dataframe tbody tr th:only-of-type {\n        vertical-align: middle;\n    }\n\n    .dataframe tbody tr th {\n        vertical-align: top;\n    }\n\n    .dataframe thead th {\n        text-align: right;\n    }\n</style>\n<table border=\"1\" class=\"dataframe\">\n  <thead>\n    <tr style=\"text-align: right;\">\n      <th></th>\n      <th>mean</th>\n      <th>stdev</th>\n    </tr>\n  </thead>\n  <tbody>\n    <tr>\n      <th>a</th>\n      <td>504.522063</td>\n      <td>785.220376</td>\n    </tr>\n    <tr>\n      <th>b</th>\n      <td>666.193195</td>\n      <td>124.511883</td>\n    </tr>\n    <tr>\n      <th>c</th>\n      <td>211.513279</td>\n      <td>46.435448</td>\n    </tr>\n    <tr>\n      <th>d</th>\n      <td>137.888677</td>\n      <td>11.772866</td>\n    </tr>\n  </tbody>\n</table>\n</div>"
     },
     "metadata": {},
     "execution_count": 78
    }
   ],
   "source": [
    "#adding all means/std devs into single dataframe for comparisons \n",
    "compare = pd.DataFrame(data={'mean': [meana, meanb, meanc, meand], 'stdev': [stda, stdb, stdc, stdd]})\n",
    "compare.rename(index={0:'a',1:'b',2:'c',3:'d'}, inplace=True)\n",
    "compare"
   ]
  },
  {
   "cell_type": "code",
   "execution_count": 81,
   "metadata": {},
   "outputs": [
    {
     "output_type": "display_data",
     "data": {
      "text/plain": "<Figure size 432x288 with 1 Axes>",
      "image/svg+xml": "<?xml version=\"1.0\" encoding=\"utf-8\" standalone=\"no\"?>\r\n<!DOCTYPE svg PUBLIC \"-//W3C//DTD SVG 1.1//EN\"\r\n  \"http://www.w3.org/Graphics/SVG/1.1/DTD/svg11.dtd\">\r\n<!-- Created with matplotlib (https://matplotlib.org/) -->\r\n<svg height=\"245.188437pt\" version=\"1.1\" viewBox=\"0 0 375.2875 245.188437\" width=\"375.2875pt\" xmlns=\"http://www.w3.org/2000/svg\" xmlns:xlink=\"http://www.w3.org/1999/xlink\">\r\n <defs>\r\n  <style type=\"text/css\">\r\n*{stroke-linecap:butt;stroke-linejoin:round;}\r\n  </style>\r\n </defs>\r\n <g id=\"figure_1\">\r\n  <g id=\"patch_1\">\r\n   <path d=\"M 0 245.188437 \r\nL 375.2875 245.188437 \r\nL 375.2875 0 \r\nL 0 0 \r\nz\r\n\" style=\"fill:none;\"/>\r\n  </g>\r\n  <g id=\"axes_1\">\r\n   <g id=\"patch_2\">\r\n    <path d=\"M 33.2875 224.64 \r\nL 368.0875 224.64 \r\nL 368.0875 7.2 \r\nL 33.2875 7.2 \r\nz\r\n\" style=\"fill:#ffffff;\"/>\r\n   </g>\r\n   <g id=\"patch_3\">\r\n    <path clip-path=\"url(#p53bcbfe479)\" d=\"M 54.2125 224.64 \r\nL 75.1375 224.64 \r\nL 75.1375 91.582689 \r\nL 54.2125 91.582689 \r\nz\r\n\" style=\"fill:#1f77b4;\"/>\r\n   </g>\r\n   <g id=\"patch_4\">\r\n    <path clip-path=\"url(#p53bcbfe479)\" d=\"M 137.9125 224.64 \r\nL 158.8375 224.64 \r\nL 158.8375 48.945255 \r\nL 137.9125 48.945255 \r\nz\r\n\" style=\"fill:#1f77b4;\"/>\r\n   </g>\r\n   <g id=\"patch_5\">\r\n    <path clip-path=\"url(#p53bcbfe479)\" d=\"M 221.6125 224.64 \r\nL 242.5375 224.64 \r\nL 242.5375 168.857726 \r\nL 221.6125 168.857726 \r\nz\r\n\" style=\"fill:#1f77b4;\"/>\r\n   </g>\r\n   <g id=\"patch_6\">\r\n    <path clip-path=\"url(#p53bcbfe479)\" d=\"M 305.3125 224.64 \r\nL 326.2375 224.64 \r\nL 326.2375 188.274699 \r\nL 305.3125 188.274699 \r\nz\r\n\" style=\"fill:#1f77b4;\"/>\r\n   </g>\r\n   <g id=\"patch_7\">\r\n    <path clip-path=\"url(#p53bcbfe479)\" d=\"M 75.1375 224.64 \r\nL 96.0625 224.64 \r\nL 96.0625 17.554286 \r\nL 75.1375 17.554286 \r\nz\r\n\" style=\"fill:#ff7f0e;\"/>\r\n   </g>\r\n   <g id=\"patch_8\">\r\n    <path clip-path=\"url(#p53bcbfe479)\" d=\"M 158.8375 224.64 \r\nL 179.7625 224.64 \r\nL 179.7625 191.802553 \r\nL 158.8375 191.802553 \r\nz\r\n\" style=\"fill:#ff7f0e;\"/>\r\n   </g>\r\n   <g id=\"patch_9\">\r\n    <path clip-path=\"url(#p53bcbfe479)\" d=\"M 242.5375 224.64 \r\nL 263.4625 224.64 \r\nL 263.4625 212.393606 \r\nL 242.5375 212.393606 \r\nz\r\n\" style=\"fill:#ff7f0e;\"/>\r\n   </g>\r\n   <g id=\"patch_10\">\r\n    <path clip-path=\"url(#p53bcbfe479)\" d=\"M 326.2375 224.64 \r\nL 347.1625 224.64 \r\nL 347.1625 221.535149 \r\nL 326.2375 221.535149 \r\nz\r\n\" style=\"fill:#ff7f0e;\"/>\r\n   </g>\r\n   <g id=\"matplotlib.axis_1\">\r\n    <g id=\"xtick_1\">\r\n     <g id=\"line2d_1\">\r\n      <defs>\r\n       <path d=\"M 0 0 \r\nL 0 3.5 \r\n\" id=\"m4885078ce7\" style=\"stroke:#000000;stroke-width:0.8;\"/>\r\n      </defs>\r\n      <g>\r\n       <use style=\"stroke:#000000;stroke-width:0.8;\" x=\"75.1375\" xlink:href=\"#m4885078ce7\" y=\"224.64\"/>\r\n      </g>\r\n     </g>\r\n     <g id=\"text_1\">\r\n      <!-- a -->\r\n      <defs>\r\n       <path d=\"M 34.28125 27.484375 \r\nQ 23.390625 27.484375 19.1875 25 \r\nQ 14.984375 22.515625 14.984375 16.5 \r\nQ 14.984375 11.71875 18.140625 8.90625 \r\nQ 21.296875 6.109375 26.703125 6.109375 \r\nQ 34.1875 6.109375 38.703125 11.40625 \r\nQ 43.21875 16.703125 43.21875 25.484375 \r\nL 43.21875 27.484375 \r\nz\r\nM 52.203125 31.203125 \r\nL 52.203125 0 \r\nL 43.21875 0 \r\nL 43.21875 8.296875 \r\nQ 40.140625 3.328125 35.546875 0.953125 \r\nQ 30.953125 -1.421875 24.3125 -1.421875 \r\nQ 15.921875 -1.421875 10.953125 3.296875 \r\nQ 6 8.015625 6 15.921875 \r\nQ 6 25.140625 12.171875 29.828125 \r\nQ 18.359375 34.515625 30.609375 34.515625 \r\nL 43.21875 34.515625 \r\nL 43.21875 35.40625 \r\nQ 43.21875 41.609375 39.140625 45 \r\nQ 35.0625 48.390625 27.6875 48.390625 \r\nQ 23 48.390625 18.546875 47.265625 \r\nQ 14.109375 46.140625 10.015625 43.890625 \r\nL 10.015625 52.203125 \r\nQ 14.9375 54.109375 19.578125 55.046875 \r\nQ 24.21875 56 28.609375 56 \r\nQ 40.484375 56 46.34375 49.84375 \r\nQ 52.203125 43.703125 52.203125 31.203125 \r\nz\r\n\" id=\"DejaVuSans-97\"/>\r\n      </defs>\r\n      <g transform=\"translate(77.896875 237.768125)rotate(-90)scale(0.1 -0.1)\">\r\n       <use xlink:href=\"#DejaVuSans-97\"/>\r\n      </g>\r\n     </g>\r\n    </g>\r\n    <g id=\"xtick_2\">\r\n     <g id=\"line2d_2\">\r\n      <g>\r\n       <use style=\"stroke:#000000;stroke-width:0.8;\" x=\"158.8375\" xlink:href=\"#m4885078ce7\" y=\"224.64\"/>\r\n      </g>\r\n     </g>\r\n     <g id=\"text_2\">\r\n      <!-- b -->\r\n      <defs>\r\n       <path d=\"M 48.6875 27.296875 \r\nQ 48.6875 37.203125 44.609375 42.84375 \r\nQ 40.53125 48.484375 33.40625 48.484375 \r\nQ 26.265625 48.484375 22.1875 42.84375 \r\nQ 18.109375 37.203125 18.109375 27.296875 \r\nQ 18.109375 17.390625 22.1875 11.75 \r\nQ 26.265625 6.109375 33.40625 6.109375 \r\nQ 40.53125 6.109375 44.609375 11.75 \r\nQ 48.6875 17.390625 48.6875 27.296875 \r\nz\r\nM 18.109375 46.390625 \r\nQ 20.953125 51.265625 25.265625 53.625 \r\nQ 29.59375 56 35.59375 56 \r\nQ 45.5625 56 51.78125 48.09375 \r\nQ 58.015625 40.1875 58.015625 27.296875 \r\nQ 58.015625 14.40625 51.78125 6.484375 \r\nQ 45.5625 -1.421875 35.59375 -1.421875 \r\nQ 29.59375 -1.421875 25.265625 0.953125 \r\nQ 20.953125 3.328125 18.109375 8.203125 \r\nL 18.109375 0 \r\nL 9.078125 0 \r\nL 9.078125 75.984375 \r\nL 18.109375 75.984375 \r\nz\r\n\" id=\"DejaVuSans-98\"/>\r\n      </defs>\r\n      <g transform=\"translate(161.596875 237.988437)rotate(-90)scale(0.1 -0.1)\">\r\n       <use xlink:href=\"#DejaVuSans-98\"/>\r\n      </g>\r\n     </g>\r\n    </g>\r\n    <g id=\"xtick_3\">\r\n     <g id=\"line2d_3\">\r\n      <g>\r\n       <use style=\"stroke:#000000;stroke-width:0.8;\" x=\"242.5375\" xlink:href=\"#m4885078ce7\" y=\"224.64\"/>\r\n      </g>\r\n     </g>\r\n     <g id=\"text_3\">\r\n      <!-- c -->\r\n      <defs>\r\n       <path d=\"M 48.78125 52.59375 \r\nL 48.78125 44.1875 \r\nQ 44.96875 46.296875 41.140625 47.34375 \r\nQ 37.3125 48.390625 33.40625 48.390625 \r\nQ 24.65625 48.390625 19.8125 42.84375 \r\nQ 14.984375 37.3125 14.984375 27.296875 \r\nQ 14.984375 17.28125 19.8125 11.734375 \r\nQ 24.65625 6.203125 33.40625 6.203125 \r\nQ 37.3125 6.203125 41.140625 7.25 \r\nQ 44.96875 8.296875 48.78125 10.40625 \r\nL 48.78125 2.09375 \r\nQ 45.015625 0.34375 40.984375 -0.53125 \r\nQ 36.96875 -1.421875 32.421875 -1.421875 \r\nQ 20.0625 -1.421875 12.78125 6.34375 \r\nQ 5.515625 14.109375 5.515625 27.296875 \r\nQ 5.515625 40.671875 12.859375 48.328125 \r\nQ 20.21875 56 33.015625 56 \r\nQ 37.15625 56 41.109375 55.140625 \r\nQ 45.0625 54.296875 48.78125 52.59375 \r\nz\r\n\" id=\"DejaVuSans-99\"/>\r\n      </defs>\r\n      <g transform=\"translate(245.296875 237.138437)rotate(-90)scale(0.1 -0.1)\">\r\n       <use xlink:href=\"#DejaVuSans-99\"/>\r\n      </g>\r\n     </g>\r\n    </g>\r\n    <g id=\"xtick_4\">\r\n     <g id=\"line2d_4\">\r\n      <g>\r\n       <use style=\"stroke:#000000;stroke-width:0.8;\" x=\"326.2375\" xlink:href=\"#m4885078ce7\" y=\"224.64\"/>\r\n      </g>\r\n     </g>\r\n     <g id=\"text_4\">\r\n      <!-- d -->\r\n      <defs>\r\n       <path d=\"M 45.40625 46.390625 \r\nL 45.40625 75.984375 \r\nL 54.390625 75.984375 \r\nL 54.390625 0 \r\nL 45.40625 0 \r\nL 45.40625 8.203125 \r\nQ 42.578125 3.328125 38.25 0.953125 \r\nQ 33.9375 -1.421875 27.875 -1.421875 \r\nQ 17.96875 -1.421875 11.734375 6.484375 \r\nQ 5.515625 14.40625 5.515625 27.296875 \r\nQ 5.515625 40.1875 11.734375 48.09375 \r\nQ 17.96875 56 27.875 56 \r\nQ 33.9375 56 38.25 53.625 \r\nQ 42.578125 51.265625 45.40625 46.390625 \r\nz\r\nM 14.796875 27.296875 \r\nQ 14.796875 17.390625 18.875 11.75 \r\nQ 22.953125 6.109375 30.078125 6.109375 \r\nQ 37.203125 6.109375 41.296875 11.75 \r\nQ 45.40625 17.390625 45.40625 27.296875 \r\nQ 45.40625 37.203125 41.296875 42.84375 \r\nQ 37.203125 48.484375 30.078125 48.484375 \r\nQ 22.953125 48.484375 18.875 42.84375 \r\nQ 14.796875 37.203125 14.796875 27.296875 \r\nz\r\n\" id=\"DejaVuSans-100\"/>\r\n      </defs>\r\n      <g transform=\"translate(328.996875 237.988437)rotate(-90)scale(0.1 -0.1)\">\r\n       <use xlink:href=\"#DejaVuSans-100\"/>\r\n      </g>\r\n     </g>\r\n    </g>\r\n   </g>\r\n   <g id=\"matplotlib.axis_2\">\r\n    <g id=\"ytick_1\">\r\n     <g id=\"line2d_5\">\r\n      <defs>\r\n       <path d=\"M 0 0 \r\nL -3.5 0 \r\n\" id=\"mbf20eaa477\" style=\"stroke:#000000;stroke-width:0.8;\"/>\r\n      </defs>\r\n      <g>\r\n       <use style=\"stroke:#000000;stroke-width:0.8;\" x=\"33.2875\" xlink:href=\"#mbf20eaa477\" y=\"224.64\"/>\r\n      </g>\r\n     </g>\r\n     <g id=\"text_5\">\r\n      <!-- 0 -->\r\n      <defs>\r\n       <path d=\"M 31.78125 66.40625 \r\nQ 24.171875 66.40625 20.328125 58.90625 \r\nQ 16.5 51.421875 16.5 36.375 \r\nQ 16.5 21.390625 20.328125 13.890625 \r\nQ 24.171875 6.390625 31.78125 6.390625 \r\nQ 39.453125 6.390625 43.28125 13.890625 \r\nQ 47.125 21.390625 47.125 36.375 \r\nQ 47.125 51.421875 43.28125 58.90625 \r\nQ 39.453125 66.40625 31.78125 66.40625 \r\nz\r\nM 31.78125 74.21875 \r\nQ 44.046875 74.21875 50.515625 64.515625 \r\nQ 56.984375 54.828125 56.984375 36.375 \r\nQ 56.984375 17.96875 50.515625 8.265625 \r\nQ 44.046875 -1.421875 31.78125 -1.421875 \r\nQ 19.53125 -1.421875 13.0625 8.265625 \r\nQ 6.59375 17.96875 6.59375 36.375 \r\nQ 6.59375 54.828125 13.0625 64.515625 \r\nQ 19.53125 74.21875 31.78125 74.21875 \r\nz\r\n\" id=\"DejaVuSans-48\"/>\r\n      </defs>\r\n      <g transform=\"translate(19.925 228.439219)scale(0.1 -0.1)\">\r\n       <use xlink:href=\"#DejaVuSans-48\"/>\r\n      </g>\r\n     </g>\r\n    </g>\r\n    <g id=\"ytick_2\">\r\n     <g id=\"line2d_6\">\r\n      <g>\r\n       <use style=\"stroke:#000000;stroke-width:0.8;\" x=\"33.2875\" xlink:href=\"#mbf20eaa477\" y=\"198.267058\"/>\r\n      </g>\r\n     </g>\r\n     <g id=\"text_6\">\r\n      <!-- 100 -->\r\n      <defs>\r\n       <path d=\"M 12.40625 8.296875 \r\nL 28.515625 8.296875 \r\nL 28.515625 63.921875 \r\nL 10.984375 60.40625 \r\nL 10.984375 69.390625 \r\nL 28.421875 72.90625 \r\nL 38.28125 72.90625 \r\nL 38.28125 8.296875 \r\nL 54.390625 8.296875 \r\nL 54.390625 0 \r\nL 12.40625 0 \r\nz\r\n\" id=\"DejaVuSans-49\"/>\r\n      </defs>\r\n      <g transform=\"translate(7.2 202.066277)scale(0.1 -0.1)\">\r\n       <use xlink:href=\"#DejaVuSans-49\"/>\r\n       <use x=\"63.623047\" xlink:href=\"#DejaVuSans-48\"/>\r\n       <use x=\"127.246094\" xlink:href=\"#DejaVuSans-48\"/>\r\n      </g>\r\n     </g>\r\n    </g>\r\n    <g id=\"ytick_3\">\r\n     <g id=\"line2d_7\">\r\n      <g>\r\n       <use style=\"stroke:#000000;stroke-width:0.8;\" x=\"33.2875\" xlink:href=\"#mbf20eaa477\" y=\"171.894116\"/>\r\n      </g>\r\n     </g>\r\n     <g id=\"text_7\">\r\n      <!-- 200 -->\r\n      <defs>\r\n       <path d=\"M 19.1875 8.296875 \r\nL 53.609375 8.296875 \r\nL 53.609375 0 \r\nL 7.328125 0 \r\nL 7.328125 8.296875 \r\nQ 12.9375 14.109375 22.625 23.890625 \r\nQ 32.328125 33.6875 34.8125 36.53125 \r\nQ 39.546875 41.84375 41.421875 45.53125 \r\nQ 43.3125 49.21875 43.3125 52.78125 \r\nQ 43.3125 58.59375 39.234375 62.25 \r\nQ 35.15625 65.921875 28.609375 65.921875 \r\nQ 23.96875 65.921875 18.8125 64.3125 \r\nQ 13.671875 62.703125 7.8125 59.421875 \r\nL 7.8125 69.390625 \r\nQ 13.765625 71.78125 18.9375 73 \r\nQ 24.125 74.21875 28.421875 74.21875 \r\nQ 39.75 74.21875 46.484375 68.546875 \r\nQ 53.21875 62.890625 53.21875 53.421875 \r\nQ 53.21875 48.921875 51.53125 44.890625 \r\nQ 49.859375 40.875 45.40625 35.40625 \r\nQ 44.1875 33.984375 37.640625 27.21875 \r\nQ 31.109375 20.453125 19.1875 8.296875 \r\nz\r\n\" id=\"DejaVuSans-50\"/>\r\n      </defs>\r\n      <g transform=\"translate(7.2 175.693335)scale(0.1 -0.1)\">\r\n       <use xlink:href=\"#DejaVuSans-50\"/>\r\n       <use x=\"63.623047\" xlink:href=\"#DejaVuSans-48\"/>\r\n       <use x=\"127.246094\" xlink:href=\"#DejaVuSans-48\"/>\r\n      </g>\r\n     </g>\r\n    </g>\r\n    <g id=\"ytick_4\">\r\n     <g id=\"line2d_8\">\r\n      <g>\r\n       <use style=\"stroke:#000000;stroke-width:0.8;\" x=\"33.2875\" xlink:href=\"#mbf20eaa477\" y=\"145.521174\"/>\r\n      </g>\r\n     </g>\r\n     <g id=\"text_8\">\r\n      <!-- 300 -->\r\n      <defs>\r\n       <path d=\"M 40.578125 39.3125 \r\nQ 47.65625 37.796875 51.625 33 \r\nQ 55.609375 28.21875 55.609375 21.1875 \r\nQ 55.609375 10.40625 48.1875 4.484375 \r\nQ 40.765625 -1.421875 27.09375 -1.421875 \r\nQ 22.515625 -1.421875 17.65625 -0.515625 \r\nQ 12.796875 0.390625 7.625 2.203125 \r\nL 7.625 11.71875 \r\nQ 11.71875 9.328125 16.59375 8.109375 \r\nQ 21.484375 6.890625 26.8125 6.890625 \r\nQ 36.078125 6.890625 40.9375 10.546875 \r\nQ 45.796875 14.203125 45.796875 21.1875 \r\nQ 45.796875 27.640625 41.28125 31.265625 \r\nQ 36.765625 34.90625 28.71875 34.90625 \r\nL 20.21875 34.90625 \r\nL 20.21875 43.015625 \r\nL 29.109375 43.015625 \r\nQ 36.375 43.015625 40.234375 45.921875 \r\nQ 44.09375 48.828125 44.09375 54.296875 \r\nQ 44.09375 59.90625 40.109375 62.90625 \r\nQ 36.140625 65.921875 28.71875 65.921875 \r\nQ 24.65625 65.921875 20.015625 65.03125 \r\nQ 15.375 64.15625 9.8125 62.3125 \r\nL 9.8125 71.09375 \r\nQ 15.4375 72.65625 20.34375 73.4375 \r\nQ 25.25 74.21875 29.59375 74.21875 \r\nQ 40.828125 74.21875 47.359375 69.109375 \r\nQ 53.90625 64.015625 53.90625 55.328125 \r\nQ 53.90625 49.265625 50.4375 45.09375 \r\nQ 46.96875 40.921875 40.578125 39.3125 \r\nz\r\n\" id=\"DejaVuSans-51\"/>\r\n      </defs>\r\n      <g transform=\"translate(7.2 149.320393)scale(0.1 -0.1)\">\r\n       <use xlink:href=\"#DejaVuSans-51\"/>\r\n       <use x=\"63.623047\" xlink:href=\"#DejaVuSans-48\"/>\r\n       <use x=\"127.246094\" xlink:href=\"#DejaVuSans-48\"/>\r\n      </g>\r\n     </g>\r\n    </g>\r\n    <g id=\"ytick_5\">\r\n     <g id=\"line2d_9\">\r\n      <g>\r\n       <use style=\"stroke:#000000;stroke-width:0.8;\" x=\"33.2875\" xlink:href=\"#mbf20eaa477\" y=\"119.148232\"/>\r\n      </g>\r\n     </g>\r\n     <g id=\"text_9\">\r\n      <!-- 400 -->\r\n      <defs>\r\n       <path d=\"M 37.796875 64.3125 \r\nL 12.890625 25.390625 \r\nL 37.796875 25.390625 \r\nz\r\nM 35.203125 72.90625 \r\nL 47.609375 72.90625 \r\nL 47.609375 25.390625 \r\nL 58.015625 25.390625 \r\nL 58.015625 17.1875 \r\nL 47.609375 17.1875 \r\nL 47.609375 0 \r\nL 37.796875 0 \r\nL 37.796875 17.1875 \r\nL 4.890625 17.1875 \r\nL 4.890625 26.703125 \r\nz\r\n\" id=\"DejaVuSans-52\"/>\r\n      </defs>\r\n      <g transform=\"translate(7.2 122.947451)scale(0.1 -0.1)\">\r\n       <use xlink:href=\"#DejaVuSans-52\"/>\r\n       <use x=\"63.623047\" xlink:href=\"#DejaVuSans-48\"/>\r\n       <use x=\"127.246094\" xlink:href=\"#DejaVuSans-48\"/>\r\n      </g>\r\n     </g>\r\n    </g>\r\n    <g id=\"ytick_6\">\r\n     <g id=\"line2d_10\">\r\n      <g>\r\n       <use style=\"stroke:#000000;stroke-width:0.8;\" x=\"33.2875\" xlink:href=\"#mbf20eaa477\" y=\"92.77529\"/>\r\n      </g>\r\n     </g>\r\n     <g id=\"text_10\">\r\n      <!-- 500 -->\r\n      <defs>\r\n       <path d=\"M 10.796875 72.90625 \r\nL 49.515625 72.90625 \r\nL 49.515625 64.59375 \r\nL 19.828125 64.59375 \r\nL 19.828125 46.734375 \r\nQ 21.96875 47.46875 24.109375 47.828125 \r\nQ 26.265625 48.1875 28.421875 48.1875 \r\nQ 40.625 48.1875 47.75 41.5 \r\nQ 54.890625 34.8125 54.890625 23.390625 \r\nQ 54.890625 11.625 47.5625 5.09375 \r\nQ 40.234375 -1.421875 26.90625 -1.421875 \r\nQ 22.3125 -1.421875 17.546875 -0.640625 \r\nQ 12.796875 0.140625 7.71875 1.703125 \r\nL 7.71875 11.625 \r\nQ 12.109375 9.234375 16.796875 8.0625 \r\nQ 21.484375 6.890625 26.703125 6.890625 \r\nQ 35.15625 6.890625 40.078125 11.328125 \r\nQ 45.015625 15.765625 45.015625 23.390625 \r\nQ 45.015625 31 40.078125 35.4375 \r\nQ 35.15625 39.890625 26.703125 39.890625 \r\nQ 22.75 39.890625 18.8125 39.015625 \r\nQ 14.890625 38.140625 10.796875 36.28125 \r\nz\r\n\" id=\"DejaVuSans-53\"/>\r\n      </defs>\r\n      <g transform=\"translate(7.2 96.574509)scale(0.1 -0.1)\">\r\n       <use xlink:href=\"#DejaVuSans-53\"/>\r\n       <use x=\"63.623047\" xlink:href=\"#DejaVuSans-48\"/>\r\n       <use x=\"127.246094\" xlink:href=\"#DejaVuSans-48\"/>\r\n      </g>\r\n     </g>\r\n    </g>\r\n    <g id=\"ytick_7\">\r\n     <g id=\"line2d_11\">\r\n      <g>\r\n       <use style=\"stroke:#000000;stroke-width:0.8;\" x=\"33.2875\" xlink:href=\"#mbf20eaa477\" y=\"66.402348\"/>\r\n      </g>\r\n     </g>\r\n     <g id=\"text_11\">\r\n      <!-- 600 -->\r\n      <defs>\r\n       <path d=\"M 33.015625 40.375 \r\nQ 26.375 40.375 22.484375 35.828125 \r\nQ 18.609375 31.296875 18.609375 23.390625 \r\nQ 18.609375 15.53125 22.484375 10.953125 \r\nQ 26.375 6.390625 33.015625 6.390625 \r\nQ 39.65625 6.390625 43.53125 10.953125 \r\nQ 47.40625 15.53125 47.40625 23.390625 \r\nQ 47.40625 31.296875 43.53125 35.828125 \r\nQ 39.65625 40.375 33.015625 40.375 \r\nz\r\nM 52.59375 71.296875 \r\nL 52.59375 62.3125 \r\nQ 48.875 64.0625 45.09375 64.984375 \r\nQ 41.3125 65.921875 37.59375 65.921875 \r\nQ 27.828125 65.921875 22.671875 59.328125 \r\nQ 17.53125 52.734375 16.796875 39.40625 \r\nQ 19.671875 43.65625 24.015625 45.921875 \r\nQ 28.375 48.1875 33.59375 48.1875 \r\nQ 44.578125 48.1875 50.953125 41.515625 \r\nQ 57.328125 34.859375 57.328125 23.390625 \r\nQ 57.328125 12.15625 50.6875 5.359375 \r\nQ 44.046875 -1.421875 33.015625 -1.421875 \r\nQ 20.359375 -1.421875 13.671875 8.265625 \r\nQ 6.984375 17.96875 6.984375 36.375 \r\nQ 6.984375 53.65625 15.1875 63.9375 \r\nQ 23.390625 74.21875 37.203125 74.21875 \r\nQ 40.921875 74.21875 44.703125 73.484375 \r\nQ 48.484375 72.75 52.59375 71.296875 \r\nz\r\n\" id=\"DejaVuSans-54\"/>\r\n      </defs>\r\n      <g transform=\"translate(7.2 70.201567)scale(0.1 -0.1)\">\r\n       <use xlink:href=\"#DejaVuSans-54\"/>\r\n       <use x=\"63.623047\" xlink:href=\"#DejaVuSans-48\"/>\r\n       <use x=\"127.246094\" xlink:href=\"#DejaVuSans-48\"/>\r\n      </g>\r\n     </g>\r\n    </g>\r\n    <g id=\"ytick_8\">\r\n     <g id=\"line2d_12\">\r\n      <g>\r\n       <use style=\"stroke:#000000;stroke-width:0.8;\" x=\"33.2875\" xlink:href=\"#mbf20eaa477\" y=\"40.029406\"/>\r\n      </g>\r\n     </g>\r\n     <g id=\"text_12\">\r\n      <!-- 700 -->\r\n      <defs>\r\n       <path d=\"M 8.203125 72.90625 \r\nL 55.078125 72.90625 \r\nL 55.078125 68.703125 \r\nL 28.609375 0 \r\nL 18.3125 0 \r\nL 43.21875 64.59375 \r\nL 8.203125 64.59375 \r\nz\r\n\" id=\"DejaVuSans-55\"/>\r\n      </defs>\r\n      <g transform=\"translate(7.2 43.828625)scale(0.1 -0.1)\">\r\n       <use xlink:href=\"#DejaVuSans-55\"/>\r\n       <use x=\"63.623047\" xlink:href=\"#DejaVuSans-48\"/>\r\n       <use x=\"127.246094\" xlink:href=\"#DejaVuSans-48\"/>\r\n      </g>\r\n     </g>\r\n    </g>\r\n    <g id=\"ytick_9\">\r\n     <g id=\"line2d_13\">\r\n      <g>\r\n       <use style=\"stroke:#000000;stroke-width:0.8;\" x=\"33.2875\" xlink:href=\"#mbf20eaa477\" y=\"13.656464\"/>\r\n      </g>\r\n     </g>\r\n     <g id=\"text_13\">\r\n      <!-- 800 -->\r\n      <defs>\r\n       <path d=\"M 31.78125 34.625 \r\nQ 24.75 34.625 20.71875 30.859375 \r\nQ 16.703125 27.09375 16.703125 20.515625 \r\nQ 16.703125 13.921875 20.71875 10.15625 \r\nQ 24.75 6.390625 31.78125 6.390625 \r\nQ 38.8125 6.390625 42.859375 10.171875 \r\nQ 46.921875 13.96875 46.921875 20.515625 \r\nQ 46.921875 27.09375 42.890625 30.859375 \r\nQ 38.875 34.625 31.78125 34.625 \r\nz\r\nM 21.921875 38.8125 \r\nQ 15.578125 40.375 12.03125 44.71875 \r\nQ 8.5 49.078125 8.5 55.328125 \r\nQ 8.5 64.0625 14.71875 69.140625 \r\nQ 20.953125 74.21875 31.78125 74.21875 \r\nQ 42.671875 74.21875 48.875 69.140625 \r\nQ 55.078125 64.0625 55.078125 55.328125 \r\nQ 55.078125 49.078125 51.53125 44.71875 \r\nQ 48 40.375 41.703125 38.8125 \r\nQ 48.828125 37.15625 52.796875 32.3125 \r\nQ 56.78125 27.484375 56.78125 20.515625 \r\nQ 56.78125 9.90625 50.3125 4.234375 \r\nQ 43.84375 -1.421875 31.78125 -1.421875 \r\nQ 19.734375 -1.421875 13.25 4.234375 \r\nQ 6.78125 9.90625 6.78125 20.515625 \r\nQ 6.78125 27.484375 10.78125 32.3125 \r\nQ 14.796875 37.15625 21.921875 38.8125 \r\nz\r\nM 18.3125 54.390625 \r\nQ 18.3125 48.734375 21.84375 45.5625 \r\nQ 25.390625 42.390625 31.78125 42.390625 \r\nQ 38.140625 42.390625 41.71875 45.5625 \r\nQ 45.3125 48.734375 45.3125 54.390625 \r\nQ 45.3125 60.0625 41.71875 63.234375 \r\nQ 38.140625 66.40625 31.78125 66.40625 \r\nQ 25.390625 66.40625 21.84375 63.234375 \r\nQ 18.3125 60.0625 18.3125 54.390625 \r\nz\r\n\" id=\"DejaVuSans-56\"/>\r\n      </defs>\r\n      <g transform=\"translate(7.2 17.455683)scale(0.1 -0.1)\">\r\n       <use xlink:href=\"#DejaVuSans-56\"/>\r\n       <use x=\"63.623047\" xlink:href=\"#DejaVuSans-48\"/>\r\n       <use x=\"127.246094\" xlink:href=\"#DejaVuSans-48\"/>\r\n      </g>\r\n     </g>\r\n    </g>\r\n   </g>\r\n   <g id=\"patch_11\">\r\n    <path d=\"M 33.2875 224.64 \r\nL 33.2875 7.2 \r\n\" style=\"fill:none;stroke:#000000;stroke-linecap:square;stroke-linejoin:miter;stroke-width:0.8;\"/>\r\n   </g>\r\n   <g id=\"patch_12\">\r\n    <path d=\"M 368.0875 224.64 \r\nL 368.0875 7.2 \r\n\" style=\"fill:none;stroke:#000000;stroke-linecap:square;stroke-linejoin:miter;stroke-width:0.8;\"/>\r\n   </g>\r\n   <g id=\"patch_13\">\r\n    <path d=\"M 33.2875 224.64 \r\nL 368.0875 224.64 \r\n\" style=\"fill:none;stroke:#000000;stroke-linecap:square;stroke-linejoin:miter;stroke-width:0.8;\"/>\r\n   </g>\r\n   <g id=\"patch_14\">\r\n    <path d=\"M 33.2875 7.2 \r\nL 368.0875 7.2 \r\n\" style=\"fill:none;stroke:#000000;stroke-linecap:square;stroke-linejoin:miter;stroke-width:0.8;\"/>\r\n   </g>\r\n   <g id=\"legend_1\">\r\n    <g id=\"patch_15\">\r\n     <path d=\"M 300.728125 44.55625 \r\nL 361.0875 44.55625 \r\nQ 363.0875 44.55625 363.0875 42.55625 \r\nL 363.0875 14.2 \r\nQ 363.0875 12.2 361.0875 12.2 \r\nL 300.728125 12.2 \r\nQ 298.728125 12.2 298.728125 14.2 \r\nL 298.728125 42.55625 \r\nQ 298.728125 44.55625 300.728125 44.55625 \r\nz\r\n\" style=\"fill:#ffffff;opacity:0.8;stroke:#cccccc;stroke-linejoin:miter;\"/>\r\n    </g>\r\n    <g id=\"patch_16\">\r\n     <path d=\"M 302.728125 23.798437 \r\nL 322.728125 23.798437 \r\nL 322.728125 16.798437 \r\nL 302.728125 16.798437 \r\nz\r\n\" style=\"fill:#1f77b4;\"/>\r\n    </g>\r\n    <g id=\"text_14\">\r\n     <!-- mean -->\r\n     <defs>\r\n      <path d=\"M 52 44.1875 \r\nQ 55.375 50.25 60.0625 53.125 \r\nQ 64.75 56 71.09375 56 \r\nQ 79.640625 56 84.28125 50.015625 \r\nQ 88.921875 44.046875 88.921875 33.015625 \r\nL 88.921875 0 \r\nL 79.890625 0 \r\nL 79.890625 32.71875 \r\nQ 79.890625 40.578125 77.09375 44.375 \r\nQ 74.3125 48.1875 68.609375 48.1875 \r\nQ 61.625 48.1875 57.5625 43.546875 \r\nQ 53.515625 38.921875 53.515625 30.90625 \r\nL 53.515625 0 \r\nL 44.484375 0 \r\nL 44.484375 32.71875 \r\nQ 44.484375 40.625 41.703125 44.40625 \r\nQ 38.921875 48.1875 33.109375 48.1875 \r\nQ 26.21875 48.1875 22.15625 43.53125 \r\nQ 18.109375 38.875 18.109375 30.90625 \r\nL 18.109375 0 \r\nL 9.078125 0 \r\nL 9.078125 54.6875 \r\nL 18.109375 54.6875 \r\nL 18.109375 46.1875 \r\nQ 21.1875 51.21875 25.484375 53.609375 \r\nQ 29.78125 56 35.6875 56 \r\nQ 41.65625 56 45.828125 52.96875 \r\nQ 50 49.953125 52 44.1875 \r\nz\r\n\" id=\"DejaVuSans-109\"/>\r\n      <path d=\"M 56.203125 29.59375 \r\nL 56.203125 25.203125 \r\nL 14.890625 25.203125 \r\nQ 15.484375 15.921875 20.484375 11.0625 \r\nQ 25.484375 6.203125 34.421875 6.203125 \r\nQ 39.59375 6.203125 44.453125 7.46875 \r\nQ 49.3125 8.734375 54.109375 11.28125 \r\nL 54.109375 2.78125 \r\nQ 49.265625 0.734375 44.1875 -0.34375 \r\nQ 39.109375 -1.421875 33.890625 -1.421875 \r\nQ 20.796875 -1.421875 13.15625 6.1875 \r\nQ 5.515625 13.8125 5.515625 26.8125 \r\nQ 5.515625 40.234375 12.765625 48.109375 \r\nQ 20.015625 56 32.328125 56 \r\nQ 43.359375 56 49.78125 48.890625 \r\nQ 56.203125 41.796875 56.203125 29.59375 \r\nz\r\nM 47.21875 32.234375 \r\nQ 47.125 39.59375 43.09375 43.984375 \r\nQ 39.0625 48.390625 32.421875 48.390625 \r\nQ 24.90625 48.390625 20.390625 44.140625 \r\nQ 15.875 39.890625 15.1875 32.171875 \r\nz\r\n\" id=\"DejaVuSans-101\"/>\r\n      <path d=\"M 54.890625 33.015625 \r\nL 54.890625 0 \r\nL 45.90625 0 \r\nL 45.90625 32.71875 \r\nQ 45.90625 40.484375 42.875 44.328125 \r\nQ 39.84375 48.1875 33.796875 48.1875 \r\nQ 26.515625 48.1875 22.3125 43.546875 \r\nQ 18.109375 38.921875 18.109375 30.90625 \r\nL 18.109375 0 \r\nL 9.078125 0 \r\nL 9.078125 54.6875 \r\nL 18.109375 54.6875 \r\nL 18.109375 46.1875 \r\nQ 21.34375 51.125 25.703125 53.5625 \r\nQ 30.078125 56 35.796875 56 \r\nQ 45.21875 56 50.046875 50.171875 \r\nQ 54.890625 44.34375 54.890625 33.015625 \r\nz\r\n\" id=\"DejaVuSans-110\"/>\r\n     </defs>\r\n     <g transform=\"translate(330.728125 23.798437)scale(0.1 -0.1)\">\r\n      <use xlink:href=\"#DejaVuSans-109\"/>\r\n      <use x=\"97.412109\" xlink:href=\"#DejaVuSans-101\"/>\r\n      <use x=\"158.935547\" xlink:href=\"#DejaVuSans-97\"/>\r\n      <use x=\"220.214844\" xlink:href=\"#DejaVuSans-110\"/>\r\n     </g>\r\n    </g>\r\n    <g id=\"patch_17\">\r\n     <path d=\"M 302.728125 38.476562 \r\nL 322.728125 38.476562 \r\nL 322.728125 31.476562 \r\nL 302.728125 31.476562 \r\nz\r\n\" style=\"fill:#ff7f0e;\"/>\r\n    </g>\r\n    <g id=\"text_15\">\r\n     <!-- stdev -->\r\n     <defs>\r\n      <path d=\"M 44.28125 53.078125 \r\nL 44.28125 44.578125 \r\nQ 40.484375 46.53125 36.375 47.5 \r\nQ 32.28125 48.484375 27.875 48.484375 \r\nQ 21.1875 48.484375 17.84375 46.4375 \r\nQ 14.5 44.390625 14.5 40.28125 \r\nQ 14.5 37.15625 16.890625 35.375 \r\nQ 19.28125 33.59375 26.515625 31.984375 \r\nL 29.59375 31.296875 \r\nQ 39.15625 29.25 43.1875 25.515625 \r\nQ 47.21875 21.78125 47.21875 15.09375 \r\nQ 47.21875 7.46875 41.1875 3.015625 \r\nQ 35.15625 -1.421875 24.609375 -1.421875 \r\nQ 20.21875 -1.421875 15.453125 -0.5625 \r\nQ 10.6875 0.296875 5.421875 2 \r\nL 5.421875 11.28125 \r\nQ 10.40625 8.6875 15.234375 7.390625 \r\nQ 20.0625 6.109375 24.8125 6.109375 \r\nQ 31.15625 6.109375 34.5625 8.28125 \r\nQ 37.984375 10.453125 37.984375 14.40625 \r\nQ 37.984375 18.0625 35.515625 20.015625 \r\nQ 33.0625 21.96875 24.703125 23.78125 \r\nL 21.578125 24.515625 \r\nQ 13.234375 26.265625 9.515625 29.90625 \r\nQ 5.8125 33.546875 5.8125 39.890625 \r\nQ 5.8125 47.609375 11.28125 51.796875 \r\nQ 16.75 56 26.8125 56 \r\nQ 31.78125 56 36.171875 55.265625 \r\nQ 40.578125 54.546875 44.28125 53.078125 \r\nz\r\n\" id=\"DejaVuSans-115\"/>\r\n      <path d=\"M 18.3125 70.21875 \r\nL 18.3125 54.6875 \r\nL 36.8125 54.6875 \r\nL 36.8125 47.703125 \r\nL 18.3125 47.703125 \r\nL 18.3125 18.015625 \r\nQ 18.3125 11.328125 20.140625 9.421875 \r\nQ 21.96875 7.515625 27.59375 7.515625 \r\nL 36.8125 7.515625 \r\nL 36.8125 0 \r\nL 27.59375 0 \r\nQ 17.1875 0 13.234375 3.875 \r\nQ 9.28125 7.765625 9.28125 18.015625 \r\nL 9.28125 47.703125 \r\nL 2.6875 47.703125 \r\nL 2.6875 54.6875 \r\nL 9.28125 54.6875 \r\nL 9.28125 70.21875 \r\nz\r\n\" id=\"DejaVuSans-116\"/>\r\n      <path d=\"M 2.984375 54.6875 \r\nL 12.5 54.6875 \r\nL 29.59375 8.796875 \r\nL 46.6875 54.6875 \r\nL 56.203125 54.6875 \r\nL 35.6875 0 \r\nL 23.484375 0 \r\nz\r\n\" id=\"DejaVuSans-118\"/>\r\n     </defs>\r\n     <g transform=\"translate(330.728125 38.476562)scale(0.1 -0.1)\">\r\n      <use xlink:href=\"#DejaVuSans-115\"/>\r\n      <use x=\"52.099609\" xlink:href=\"#DejaVuSans-116\"/>\r\n      <use x=\"91.308594\" xlink:href=\"#DejaVuSans-100\"/>\r\n      <use x=\"154.785156\" xlink:href=\"#DejaVuSans-101\"/>\r\n      <use x=\"216.308594\" xlink:href=\"#DejaVuSans-118\"/>\r\n     </g>\r\n    </g>\r\n   </g>\r\n  </g>\r\n </g>\r\n <defs>\r\n  <clipPath id=\"p53bcbfe479\">\r\n   <rect height=\"217.44\" width=\"334.8\" x=\"33.2875\" y=\"7.2\"/>\r\n  </clipPath>\r\n </defs>\r\n</svg>\r\n",
      "image/png": "[encoded data removed]"
     },
     "metadata": {
      "needs_background": "light"
     }
    }
   ],
   "source": [
    "#plotting comparisons\n",
    "compare[['mean','stdev']].plot(kind='bar')\n",
    "plt.show()"
   ]
  },
  {
   "cell_type": "code",
   "execution_count": null,
   "metadata": {},
   "outputs": [],
   "source": []
  }
 ]
}